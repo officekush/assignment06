{
 "cells": [
  {
   "cell_type": "code",
   "execution_count": 1,
   "id": "4c0a879b-0b80-48ee-89f5-7ea36af08d05",
   "metadata": {},
   "outputs": [],
   "source": [
    "#ans1\n",
    "'''In object-oriented programming (OOP), a class is a blueprint for creating objects.\n",
    "It defines a set of attributes (data members) and methods (functions) that the objects\n",
    "instantiated from the class will have.An object is an instance of a class.\n",
    "It is a concrete entity created from the class blueprintand has its own unique state \n",
    "(attributes) and behavior (methods).'''\n",
    "\n",
    "class Car:\n",
    "    def __init__(self, brand, model):\n",
    "        self.brand = brand\n",
    "        self.model = model\n",
    "\n",
    "    def display_info(self):\n",
    "        print(f\"{self.brand} {self.model}\")\n",
    "\n",
    "# Creating an object (instance) of the Car class\n",
    "my_car = Car(\"Toyota\", \"Camry\")\n",
    "\n",
    "\n"
   ]
  },
  {
   "cell_type": "code",
   "execution_count": 2,
   "id": "a8ee44e4-cf32-4778-9498-27ffde81c68a",
   "metadata": {},
   "outputs": [
    {
     "data": {
      "text/plain": [
       "'ans2\\nThe four pillars of OOP are:\\n\\nEncapsulation: Encapsulation is the bundling of data (attributes) and methods that operate on the data into a single unit, i.e., a class.\\n\\nAbstraction: Abstraction is the concept of hiding the complex implementation details and exposing only the necessary features of an object.\\n\\nInheritance: Inheritance is a mechanism by which a class can inherit properties and behaviors from another class, promoting code reusability.\\n\\nPolymorphism: Polymorphism allows objects of different classes to be treated as objects of a common base class.\\nIt enables one interface to be used for a general class of actions.'"
      ]
     },
     "execution_count": 2,
     "metadata": {},
     "output_type": "execute_result"
    }
   ],
   "source": [
    "'''ans2\n",
    "The four pillars of OOP are:\n",
    "\n",
    "Encapsulation: Encapsulation is the bundling of data (attributes) and methods that operate on the data into a single unit, i.e., a class.\n",
    "\n",
    "Abstraction: Abstraction is the concept of hiding the complex implementation details and exposing only the necessary features of an object.\n",
    "\n",
    "Inheritance: Inheritance is a mechanism by which a class can inherit properties and behaviors from another class, promoting code reusability.\n",
    "\n",
    "Polymorphism: Polymorphism allows objects of different classes to be treated as objects of a common base class.\n",
    "It enables one interface to be used for a general class of actions.'''"
   ]
  },
  {
   "cell_type": "code",
   "execution_count": 3,
   "id": "64e52edc-4fd2-4018-88bc-de79d93e1be2",
   "metadata": {},
   "outputs": [],
   "source": [
    "'''ans3\n",
    "The __init__ method is a special method in Python classes that is automatically\n",
    "called when an object is created. \n",
    "It is used for initializing the attributes of the object.'''\n",
    "\n",
    "class Person:\n",
    "    def __init__(self, name, age):\n",
    "        self.name = name\n",
    "        self.age = age\n",
    "\n",
    "# Creating an object and initializing its attributes\n",
    "person = Person(\"John\", 30)\n"
   ]
  },
  {
   "cell_type": "code",
   "execution_count": 4,
   "id": "a6208bef-0e21-4d9d-a5b4-126bd58fa66c",
   "metadata": {},
   "outputs": [
    {
     "data": {
      "text/plain": [
       "'ans4\\nIn Python, self is a convention (not a keyword) that refers to the instance of the class.\\nIt is the first parameter in the method definition and allows the instance to refer to itself.\\nWhen calling a method on an object, Python automatically passes the instance (self) to the \\nmethod.Even In python,we also use other convention in place of self.'"
      ]
     },
     "execution_count": 4,
     "metadata": {},
     "output_type": "execute_result"
    }
   ],
   "source": [
    "'''ans4\n",
    "In Python, self is a convention (not a keyword) that refers to the instance of the class.\n",
    "It is the first parameter in the method definition and allows the instance to refer to itself.\n",
    "When calling a method on an object, Python automatically passes the instance (self) to the \n",
    "method.Even In python,we also use other convention in place of self.'''"
   ]
  },
  {
   "cell_type": "code",
   "execution_count": 5,
   "id": "c3f16daf-edbe-4474-947d-b298d7cbefe4",
   "metadata": {},
   "outputs": [
    {
     "name": "stdout",
     "output_type": "stream",
     "text": [
      "Animal speaks\n",
      "Dog barks\n"
     ]
    }
   ],
   "source": [
    "'''ans5 Inheritance is a fundamental concept in OOP that allows a new class (subclass/derived class) to inherit properties and behaviors from an existing class (superclass/base class). \n",
    "This promotes code reuse and establishes a relationship between classes.'''\n",
    "class Animal:\n",
    "    def speak(self):\n",
    "        print(\"Animal speaks\")\n",
    "\n",
    "class Dog(Animal):\n",
    "    def bark(self):\n",
    "        print(\"Dog barks\")\n",
    "\n",
    "# Creating an object of the derived class\n",
    "dog = Dog()\n",
    "dog.speak()  # Inherited method from Animal class\n",
    "dog.bark()   # Method specific to the Dog class\n"
   ]
  }
 ],
 "metadata": {
  "kernelspec": {
   "display_name": "Python 3 (ipykernel)",
   "language": "python",
   "name": "python3"
  },
  "language_info": {
   "codemirror_mode": {
    "name": "ipython",
    "version": 3
   },
   "file_extension": ".py",
   "mimetype": "text/x-python",
   "name": "python",
   "nbconvert_exporter": "python",
   "pygments_lexer": "ipython3",
   "version": "3.10.8"
  }
 },
 "nbformat": 4,
 "nbformat_minor": 5
}
